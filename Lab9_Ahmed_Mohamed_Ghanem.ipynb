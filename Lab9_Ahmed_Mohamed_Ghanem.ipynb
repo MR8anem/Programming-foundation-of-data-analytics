{
 "cells": [
  {
   "cell_type": "markdown",
   "metadata": {},
   "source": [
    "Q1"
   ]
  },
  {
   "cell_type": "code",
   "execution_count": null,
   "metadata": {},
   "outputs": [],
   "source": [
    "num =input(\"Enter list of integer number separated by space: \").split()\n",
    "x =[int(i) for i in num]\n",
    "print(sum(x))\n",
    "\n",
    "print(sum(i for i in X if i%2!=0))\n",
    "\n",
    "print(sum(1 for i in X if i>0))\n",
    "\n",
    "print(any(i > 0 for i in X))"
   ]
  },
  {
   "cell_type": "markdown",
   "metadata": {},
   "source": [
    "Q2"
   ]
  },
  {
   "cell_type": "code",
   "execution_count": 1,
   "metadata": {},
   "outputs": [
    {
     "name": "stdout",
     "output_type": "stream",
     "text": [
      "10\n"
     ]
    }
   ],
   "source": [
    "def sumVal(N):\n",
    "    if N<=0:\n",
    "        return 0\n",
    "    return N+sumVal(N-1)\n",
    "print( sumVal(4))\n",
    "\n",
    "#Output 10"
   ]
  },
  {
   "cell_type": "markdown",
   "metadata": {},
   "source": [
    "Q3"
   ]
  },
  {
   "cell_type": "code",
   "execution_count": 2,
   "metadata": {},
   "outputs": [
    {
     "name": "stdout",
     "output_type": "stream",
     "text": [
      "12\n",
      "3\n"
     ]
    }
   ],
   "source": [
    "def f(x,y):\n",
    "    if y==0:\n",
    "        return x\n",
    "    return f(y,x%y)\n",
    "# calculates the greatest common divisor (GCD) \n",
    "print( f(60, 48))\n",
    "print (f(33,21))\n",
    "\n",
    "#12\n",
    "#3"
   ]
  },
  {
   "cell_type": "markdown",
   "metadata": {},
   "source": [
    "Q4"
   ]
  },
  {
   "cell_type": "code",
   "execution_count": null,
   "metadata": {},
   "outputs": [],
   "source": [
    "def showList(a):\n",
    "    if a==[]:   #if list is empty, then nothing to show, just return\n",
    "        return\n",
    "    print(a[0])\n",
    "    showList(a[1:])\n",
    "showList([2,3,4,10])\n",
    "#This function will print the list items \n",
    "2\n",
    "3\n",
    "4\n",
    "10 "
   ]
  },
  {
   "cell_type": "markdown",
   "metadata": {},
   "source": [
    "Q5"
   ]
  },
  {
   "cell_type": "code",
   "execution_count": 2,
   "metadata": {},
   "outputs": [],
   "source": [
    "def sum_of_squares_recursive(n):\n",
    "    if n == 1:\n",
    "        return 1\n",
    "    else:\n",
    "        return n**2 + sum_of_squares_recursive(n - 1)\n",
    "\n",
    "\n",
    "n_value = int(input(\"Enter the value of N: \"))\n",
    "result = sum_of_squares_recursive(n_value)\n",
    "print(f\"The sum of the series is: {result}\")\n"
   ]
  },
  {
   "cell_type": "markdown",
   "metadata": {},
   "source": [
    "Q6"
   ]
  },
  {
   "cell_type": "code",
   "execution_count": 1,
   "metadata": {},
   "outputs": [
    {
     "name": "stdout",
     "output_type": "stream",
     "text": [
      "The sum of the list [1, 2, 3, 4, 5] is: 15\n"
     ]
    }
   ],
   "source": [
    "def recursive_sum(lst):\n",
    "    if not lst:  \n",
    "        return 0\n",
    "    else:\n",
    "        return lst[0] + recursive_sum(lst[1:])\n",
    "\n",
    "test_list = [1, 2, 3, 4, 5]\n",
    "result = recursive_sum(test_list)\n",
    "print(f\"The sum of the list {test_list} is: {result}\")"
   ]
  },
  {
   "cell_type": "markdown",
   "metadata": {},
   "source": [
    "Q7"
   ]
  },
  {
   "cell_type": "code",
   "execution_count": null,
   "metadata": {},
   "outputs": [],
   "source": [
    "def recursive_count(lst):\n",
    "    if not lst:  \n",
    "        return 0\n",
    "    else:\n",
    "        return 1 + recursive_count(lst[1:])\n",
    "\n",
    "test_list = [1, 2, 3, 4, 5]\n",
    "result = recursive_count(test_list)\n",
    "print(f\"The number of items in the list {test_list} is: {result}\")\n",
    "\n"
   ]
  },
  {
   "cell_type": "markdown",
   "metadata": {},
   "source": [
    "Q8"
   ]
  },
  {
   "cell_type": "code",
   "execution_count": null,
   "metadata": {},
   "outputs": [],
   "source": [
    "\n",
    "def get_max_length():\n",
    "    while True:\n",
    "        try:\n",
    "            max_length = int(input(\"Enter the maximum length in feet (a positive integer): \"))\n",
    "            if max_length > 0:\n",
    "                return max_length\n",
    "            else:\n",
    "                print(\"Please enter a valid positive integer.\")\n",
    "        except ValueError:\n",
    "            print(\"Invalid input. Please enter a valid positive integer.\")\n",
    "\n",
    "def print_conversion_chart(max_length):\n",
    "    print(\"\\nLength Conversion Chart:\")\n",
    "    print(\"{:<10} {:<10}\".format(\"Feet\", \"Meters\"))\n",
    "    print(\"-\" * 20)\n",
    "    \n",
    "    for feet in range(1, max_length + 1):\n",
    "        meters = feet * 0.3048\n",
    "        print(\"{:<10} {:<10.4f}\".format(feet, meters))\n",
    "\n",
    "if __name__ == '__main__':\n",
    "    max_length_feet = get_max_length()\n",
    "\n",
    "    print_conversion_chart(max_length_feet)\n"
   ]
  },
  {
   "cell_type": "markdown",
   "metadata": {},
   "source": [
    "Q9"
   ]
  },
  {
   "cell_type": "code",
   "execution_count": null,
   "metadata": {},
   "outputs": [],
   "source": [
    "\n",
    "def get_positive_array(prompt):\n",
    "    while True:\n",
    "        try:\n",
    "            values = input(prompt).split()\n",
    "            values = [int(val) for val in values]\n",
    "            if all(val > 0 for val in values):\n",
    "                return values\n",
    "            else:\n",
    "                print(\"Error! Please enter positive values.\")\n",
    "        except ValueError:\n",
    "            print(\"Error! Please enter valid positive integers.\")\n",
    "\n",
    "def compute_average(waiting_times):\n",
    "    return sum(waiting_times) / len(waiting_times)\n",
    "\n",
    "def get_id_long_wait(customer_ids, waiting_times, average_wait):\n",
    "    return [customer_id for customer_id, wait_time in zip(customer_ids, waiting_times) if wait_time > average_wait]\n",
    "\n",
    "if __name__ == '__main__':\n",
    "    customer_ids = get_positive_array(\"Enter ID List: \")\n",
    "    waiting_times = get_positive_array(\"Enter Waiting Time List: \")\n",
    "\n",
    "    average_wait = compute_average(waiting_times)\n",
    "\n",
    "    print('Average Waiting time = %.2f\\n' % average_wait)\n",
    "\n",
    "    id_long_wait = get_id_long_wait(customer_ids, waiting_times, average_wait)\n",
    "\n",
    "    print('IDs for customers who waited longer than average are:')\n",
    "    print(id_long_wait)\n"
   ]
  },
  {
   "cell_type": "markdown",
   "metadata": {},
   "source": [
    "Q10"
   ]
  },
  {
   "cell_type": "code",
   "execution_count": null,
   "metadata": {},
   "outputs": [],
   "source": [
    "def get_time_array(prompt):\n",
    "    while True:\n",
    "        try:\n",
    "            times = input(prompt).split()\n",
    "            times = [int(t) for t in times]\n",
    "            if all(0 <= t <= 59 for t in times):\n",
    "                return times\n",
    "            else:\n",
    "                print(\"Error! Enter valid time values (HH MM) within the range (0-23 for HH, 0-59 for MM).\")\n",
    "        except ValueError:\n",
    "            print(\"Error! Enter valid time values (HH MM).\")\n",
    "\n",
    "def add_time_array(departure_times, trip_times):\n",
    "    arrival_times = []\n",
    "    for dep_time, trip_time in zip(departure_times, trip_times):\n",
    "        hours = (dep_time[0] + trip_time[0]) % 24\n",
    "        minutes = (dep_time[1] + trip_time[1]) % 60\n",
    "        arrival_times.append((hours, minutes))\n",
    "    return arrival_times\n",
    "\n",
    "def display_time_array(prompt, times):\n",
    "    print(prompt)\n",
    "    for time in times:\n",
    "        print(f\"{time[0]:02d}:{time[1]:02d}\")\n",
    "\n",
    "if __name__ == '__main__':\n",
    "    departure_times = get_time_array(\"Enter Departure Time: \")\n",
    "\n",
    "    trip_times = get_time_array(\"Enter Trip Time: \")\n",
    "\n",
    "    arrival_times = add_time_array(departure_times, trip_times)\n",
    "\n",
    "    display_time_array(\"Arrival Time:\", arrival_times)\n"
   ]
  }
 ],
 "metadata": {
  "kernelspec": {
   "display_name": "Python 3",
   "language": "python",
   "name": "python3"
  },
  "language_info": {
   "codemirror_mode": {
    "name": "ipython",
    "version": 3
   },
   "file_extension": ".py",
   "mimetype": "text/x-python",
   "name": "python",
   "nbconvert_exporter": "python",
   "pygments_lexer": "ipython3",
   "version": "3.10.11"
  }
 },
 "nbformat": 4,
 "nbformat_minor": 2
}
