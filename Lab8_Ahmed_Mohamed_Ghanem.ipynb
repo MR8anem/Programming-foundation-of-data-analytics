{
 "cells": [
  {
   "cell_type": "markdown",
   "metadata": {},
   "source": [
    "Q1"
   ]
  },
  {
   "cell_type": "code",
   "execution_count": null,
   "metadata": {},
   "outputs": [],
   "source": [
    "def  myfun(x):\n",
    "\tsum=0\n",
    "for i in range(1,11):\n",
    "\t\tsum = sum+x[i]\n",
    "\treturn sum\n"
   ]
  },
  {
   "cell_type": "markdown",
   "metadata": {},
   "source": [
    "Q2 -> 15"
   ]
  },
  {
   "cell_type": "markdown",
   "metadata": {},
   "source": [
    "Q3"
   ]
  },
  {
   "cell_type": "code",
   "execution_count": null,
   "metadata": {},
   "outputs": [],
   "source": [
    "\n",
    "def convert_temperature(fahrenheit):\n",
    "    celsius = (fahrenheit - 32) * 5/9\n",
    "    kelvin = celsius + 273.15\n",
    "    return celsius, kelvin\n"
   ]
  },
  {
   "cell_type": "markdown",
   "metadata": {},
   "source": [
    "Q4"
   ]
  },
  {
   "cell_type": "code",
   "execution_count": null,
   "metadata": {},
   "outputs": [],
   "source": [
    "\n",
    "import math\n",
    "\n",
    "def recpol(x, y):\n",
    "    r = math.sqrt(x**2 + y**2)\n",
    "    theta = math.atan2(y, x)\n",
    "    return r, theta\n"
   ]
  },
  {
   "cell_type": "markdown",
   "metadata": {},
   "source": [
    "Q5"
   ]
  },
  {
   "cell_type": "code",
   "execution_count": null,
   "metadata": {},
   "outputs": [],
   "source": [
    "def scoreToGrade(score):\n",
    "    if score >= 90:\n",
    "        return 'A'\n",
    "    elif score >= 80:\n",
    "        return 'B'\n",
    "    elif score >= 70:\n",
    "        return 'C'\n",
    "    elif score >= 60:\n",
    "        return 'D'\n",
    "    else:\n",
    "        return 'F'\n",
    "\n",
    "if __name__ == '__main__':\n",
    "\n",
    "    scores = [74, 82, 41, 55, 68, 98]\n",
    "\n",
    "\n",
    "    grades = [scoreToGrade(score) for score in scores]\n",
    "\n",
    "    # Displaying the results\n",
    "    print(\"Input Scores:\", scores)\n",
    "    print(\"Corresponding Grades:\", grades)\n"
   ]
  },
  {
   "cell_type": "markdown",
   "metadata": {},
   "source": [
    "Q6"
   ]
  },
  {
   "cell_type": "code",
   "execution_count": null,
   "metadata": {},
   "outputs": [],
   "source": [
    "import math\n",
    "\n",
    "def getInput():\n",
    "    degree = float(input(\"Enter an angle in degrees: \"))\n",
    "    return degree\n",
    "\n",
    "def convertDeg(degrees):\n",
    "    radians = math.radians(degrees)\n",
    "    return radians\n",
    "\n",
    "def showValue(value):\n",
    "    print(f\"The result is: {value}\")\n",
    "\n",
    "\n",
    "from AngleFunctions import getInput, convertDeg, showValue\n",
    "\n",
    "if __name__ == '__main__':\n",
    "\n",
    "    d = getInput()\n",
    "\n",
    "    r = convertDeg(d)\n",
    "\n",
    "    showValue(r)\n"
   ]
  },
  {
   "cell_type": "markdown",
   "metadata": {},
   "source": [
    "Q7"
   ]
  },
  {
   "cell_type": "code",
   "execution_count": null,
   "metadata": {},
   "outputs": [],
   "source": [
    "\n",
    "\n",
    "def reverse_string(input_string):\n",
    "\n",
    "    reversed_string = input_string[::-1]\n",
    "    return reversed_string\n",
    "\n",
    "if __name__ == '__main__':\n",
    "\n",
    "    user_input = input(\"Insert your string: \")\n",
    "\n",
    "    reversed_result = reverse_string(user_input)\n",
    "\n",
    "    print(f\"The reversed string is: '{reversed_result}'\")\n"
   ]
  }
 ],
 "metadata": {
  "kernelspec": {
   "display_name": "Python 3",
   "language": "python",
   "name": "python3"
  },
  "language_info": {
   "name": "python",
   "version": "3.10.11"
  }
 },
 "nbformat": 4,
 "nbformat_minor": 2
}
